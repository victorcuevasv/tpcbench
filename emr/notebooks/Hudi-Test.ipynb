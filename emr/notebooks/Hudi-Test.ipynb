{
 "cells": [
  {
   "cell_type": "code",
   "execution_count": 1,
   "metadata": {},
   "outputs": [
    {
     "data": {
      "text/html": [
       "Current session configs: <tt>{'conf': {'spark.serializer': 'org.apache.spark.serializer.KryoSerializer', 'spark.sql.hive.convertMetastoreParquet': 'false'}, 'jars': ['s3://emr-devel-test/jars/hudi-spark-bundle_2.11-0.5.2-incubating.jar', 's3://emr-devel-test/jars/spark-avro_2.11-2.4.5-amzn-0.jar'], 'kind': 'spark'}</tt><br>"
      ],
      "text/plain": [
       "<IPython.core.display.HTML object>"
      ]
     },
     "metadata": {},
     "output_type": "display_data"
    },
    {
     "data": {
      "text/html": [
       "No active sessions."
      ],
      "text/plain": [
       "<IPython.core.display.HTML object>"
      ]
     },
     "metadata": {},
     "output_type": "display_data"
    }
   ],
   "source": [
    "%%configure -f\n",
    "{\n",
    "\"conf\": {\"spark.serializer\": \"org.apache.spark.serializer.KryoSerializer\",\n",
    "        \"spark.sql.hive.convertMetastoreParquet\": \"false\"},\n",
    "\n",
    "\"jars\": [\n",
    "        \"s3://emr-devel-test/jars/hudi-spark-bundle_2.11-0.5.2-incubating.jar\",\n",
    "        \"s3://emr-devel-test/jars/spark-avro_2.11-2.4.5-amzn-0.jar\"\n",
    "    ]\n",
    "\n",
    "}"
   ]
  },
  {
   "cell_type": "code",
   "execution_count": 2,
   "metadata": {},
   "outputs": [
    {
     "data": {
      "application/vnd.jupyter.widget-view+json": {
       "model_id": "48db82a059dd4916a6e1adb890fcaec5",
       "version_major": 2,
       "version_minor": 0
      },
      "text/plain": [
       "VBox()"
      ]
     },
     "metadata": {},
     "output_type": "display_data"
    },
    {
     "name": "stdout",
     "output_type": "stream",
     "text": [
      "Starting Spark application\n"
     ]
    },
    {
     "data": {
      "text/html": [
       "<table>\n",
       "<tr><th>ID</th><th>YARN Application ID</th><th>Kind</th><th>State</th><th>Spark UI</th><th>Driver log</th><th>Current session?</th></tr><tr><td>8</td><td>application_1593979559783_0010</td><td>spark</td><td>idle</td><td><a target=\"_blank\" href=\"http://ip-172-31-27-117.us-west-2.compute.internal:20888/proxy/application_1593979559783_0010/\">Link</a></td><td><a target=\"_blank\" href=\"http://ip-172-31-22-12.us-west-2.compute.internal:8042/node/containerlogs/container_1593979559783_0010_01_000001/livy\">Link</a></td><td>✔</td></tr></table>"
      ],
      "text/plain": [
       "<IPython.core.display.HTML object>"
      ]
     },
     "metadata": {},
     "output_type": "display_data"
    },
    {
     "data": {
      "application/vnd.jupyter.widget-view+json": {
       "model_id": "",
       "version_major": 2,
       "version_minor": 0
      },
      "text/plain": [
       "FloatProgress(value=0.0, bar_style='info', description='Progress:', layout=Layout(height='25px', width='50%'),…"
      ]
     },
     "metadata": {},
     "output_type": "display_data"
    },
    {
     "name": "stdout",
     "output_type": "stream",
     "text": [
      "SparkSession available as 'spark'.\n"
     ]
    },
    {
     "data": {
      "application/vnd.jupyter.widget-view+json": {
       "model_id": "",
       "version_major": 2,
       "version_minor": 0
      },
      "text/plain": [
       "FloatProgress(value=0.0, bar_style='info', description='Progress:', layout=Layout(height='25px', width='50%'),…"
      ]
     },
     "metadata": {},
     "output_type": "display_data"
    },
    {
     "name": "stdout",
     "output_type": "stream",
     "text": [
      "import org.apache.spark.sql.SaveMode\n",
      "import org.apache.spark.sql.functions._\n",
      "import org.apache.hudi.DataSourceWriteOptions\n",
      "import org.apache.hudi.config.HoodieWriteConfig\n",
      "import org.apache.hudi.hive.MultiPartKeysValueExtractor\n",
      "import org.apache.hudi.hive.NonPartitionedExtractor\n",
      "import org.apache.hudi.keygen.NonpartitionedKeyGenerator\n",
      "import org.apache.hudi.keygen.SimpleKeyGenerator\n"
     ]
    }
   ],
   "source": [
    "import org.apache.spark.sql.SaveMode\n",
    "import org.apache.spark.sql.functions._\n",
    "import org.apache.hudi.DataSourceWriteOptions\n",
    "import org.apache.hudi.config.HoodieWriteConfig\n",
    "import org.apache.hudi.hive.MultiPartKeysValueExtractor\n",
    "import org.apache.hudi.hive.NonPartitionedExtractor\n",
    "import org.apache.hudi.keygen.NonpartitionedKeyGenerator\n",
    "import org.apache.hudi.keygen.SimpleKeyGenerator"
   ]
  },
  {
   "cell_type": "code",
   "execution_count": 3,
   "metadata": {},
   "outputs": [
    {
     "data": {
      "application/vnd.jupyter.widget-view+json": {
       "model_id": "060e5550cb6d46e78cae4cea630715e8",
       "version_major": 2,
       "version_minor": 0
      },
      "text/plain": [
       "VBox()"
      ]
     },
     "metadata": {},
     "output_type": "display_data"
    },
    {
     "data": {
      "application/vnd.jupyter.widget-view+json": {
       "model_id": "",
       "version_major": 2,
       "version_minor": 0
      },
      "text/plain": [
       "FloatProgress(value=0.0, bar_style='info', description='Progress:', layout=Layout(height='25px', width='50%'),…"
      ]
     },
     "metadata": {},
     "output_type": "display_data"
    },
    {
     "name": "stdout",
     "output_type": "stream",
     "text": [
      "dbName: String = tpcds_sparkemr_530_1gb_1_1593979210testhudi\n",
      "warehouseName: String = tpcds-warehouse-sparkemr-530-1gb-1-1593979210testhudi\n",
      "hudiOptions: scala.collection.immutable.Map[String,String] = Map(hoodie.datasource.hive_sync.database -> tpcds_sparkemr_530_1gb_1_1593979210testhudi, hoodie.datasource.write.precombine.field -> cs_item_sk, hoodie.datasource.hive_sync.partition_fields -> cs_sold_date_sk, hoodie.datasource.hive_sync.partition_extractor_class -> org.apache.hudi.hive.MultiPartKeysValueExtractor, hoodie.parquet.max.file.size -> 1073741824, hoodie.datasource.hive_sync.table -> catalog_sales, hoodie.parquet.compression.codec -> snappy, hoodie.datasource.hive_sync.enable -> true, hoodie.datasource.write.recordkey.field -> cs_item_sk, hoodie.table.name -> catalog_sales, hoodie.datasource.write.hive_style_partitioning -> true, hoodie.datasource.write.storage.type -> COPY_ON_WRITE, hoodie.datasource.write.keygener..."
     ]
    }
   ],
   "source": [
    "val dbName = \"tpcds_sparkemr_530_1gb_1_1593979210testhudi\"\n",
    "val warehouseName = \"tpcds-warehouse-sparkemr-530-1gb-1-1593979210testhudi\"\n",
    "//No partitioning\n",
    "/*\n",
    "val hudiOptions = Map[String,String](\n",
    "\"hoodie.datasource.hive_sync.database\" -> \"tpcds_sparkemr_530_1gb_1_1593979210testhudi\",\n",
    "\"hoodie.datasource.write.precombine.field\" -> \"cs_item_sk\",\n",
    "\"hoodie.datasource.hive_sync.table\" -> \"catalog_sales\",\n",
    "\"hoodie.datasource.hive_sync.enable\" -> \"true\",\n",
    "\"hoodie.datasource.write.recordkey.field\" -> \"cs_item_sk\",\n",
    "\"hoodie.table.name\" -> \"catalog_sales\",\n",
    "\"hoodie.datasource.write.storage.type\" -> \"COPY_ON_WRITE\",\n",
    "\"hoodie.datasource.write.hive_style_partitioning\" -> \"true\",\n",
    "\"hoodie.parquet.max.file.size\" -> String.valueOf(1024 * 1024 * 1024),\n",
    "\"hoodie.parquet.compression.codec\" -> \"snappy\",\n",
    "\"hoodie.datasource.hive_sync.partition_extractor_class\" -> \"org.apache.hudi.hive.NonPartitionedExtractor\",\n",
    "\"hoodie.datasource.hive_sync.partition_fields\" -> \"\",\n",
    "\"hoodie.datasource.write.partitionpath.field\" -> \"\",\n",
    "\"hoodie.datasource.write.keygenerator.class\" -> \"org.apache.hudi.keygen.NonpartitionedKeyGenerator\"\n",
    ")\n",
    "*/\n",
    "//Partitioning\n",
    "val hudiOptions = Map[String,String](\n",
    "\"hoodie.datasource.hive_sync.database\" -> dbName,\n",
    "\"hoodie.datasource.write.precombine.field\" -> \"cs_item_sk\",\n",
    "\"hoodie.datasource.hive_sync.table\" -> \"catalog_sales\",\n",
    "\"hoodie.datasource.hive_sync.enable\" -> \"true\",\n",
    "\"hoodie.datasource.write.recordkey.field\" -> \"cs_item_sk\",\n",
    "\"hoodie.table.name\" -> \"catalog_sales\",\n",
    "\"hoodie.datasource.write.storage.type\" -> \"COPY_ON_WRITE\",\n",
    "\"hoodie.datasource.write.hive_style_partitioning\" -> \"true\",\n",
    "\"hoodie.parquet.max.file.size\" -> String.valueOf(1024 * 1024 * 1024),\n",
    "\"hoodie.parquet.compression.codec\" -> \"snappy\",\n",
    "\"hoodie.datasource.hive_sync.partition_extractor_class\" -> \"org.apache.hudi.hive.MultiPartKeysValueExtractor\",\n",
    "\"hoodie.datasource.hive_sync.partition_fields\" -> \"cs_sold_date_sk\",\n",
    "\"hoodie.datasource.write.partitionpath.field\" -> \"cs_sold_date_sk\",\n",
    "\"hoodie.datasource.write.keygenerator.class\" -> \"org.apache.hudi.keygen.SimpleKeyGenerator\"\n",
    ")"
   ]
  },
  {
   "cell_type": "code",
   "execution_count": 4,
   "metadata": {},
   "outputs": [
    {
     "data": {
      "application/vnd.jupyter.widget-view+json": {
       "model_id": "9563592358634bf095c7891592ed8b16",
       "version_major": 2,
       "version_minor": 0
      },
      "text/plain": [
       "VBox()"
      ]
     },
     "metadata": {},
     "output_type": "display_data"
    },
    {
     "data": {
      "application/vnd.jupyter.widget-view+json": {
       "model_id": "",
       "version_major": 2,
       "version_minor": 0
      },
      "text/plain": [
       "FloatProgress(value=0.0, bar_style='info', description='Progress:', layout=Layout(height='25px', width='50%'),…"
      ]
     },
     "metadata": {},
     "output_type": "display_data"
    },
    {
     "name": "stdout",
     "output_type": "stream",
     "text": [
      "hoodie.datasource.hive_sync.database -> tpcds_sparkemr_530_1gb_1_1593979210testhudi\n",
      "hoodie.datasource.write.precombine.field -> cs_item_sk\n",
      "hoodie.datasource.hive_sync.partition_fields -> cs_sold_date_sk\n",
      "hoodie.datasource.hive_sync.partition_extractor_class -> org.apache.hudi.hive.MultiPartKeysValueExtractor\n",
      "hoodie.parquet.max.file.size -> 1073741824\n",
      "hoodie.datasource.hive_sync.table -> catalog_sales\n",
      "hoodie.parquet.compression.codec -> snappy\n",
      "hoodie.datasource.hive_sync.enable -> true\n",
      "hoodie.datasource.write.recordkey.field -> cs_item_sk\n",
      "hoodie.table.name -> catalog_sales\n",
      "hoodie.datasource.write.hive_style_partitioning -> true\n",
      "hoodie.datasource.write.storage.type -> COPY_ON_WRITE\n",
      "hoodie.datasource.write.keygenerator.class -> org.apache.hudi.keygen.SimpleKeyGenerator\n",
      "hoodie.datasource.write.partitionpath.field -> cs_sold_date_sk\n"
     ]
    }
   ],
   "source": [
    "for ((k,v) <- hudiOptions) printf(\"%s -> %s\\n\", k, v)"
   ]
  },
  {
   "cell_type": "code",
   "execution_count": 5,
   "metadata": {
    "scrolled": true
   },
   "outputs": [
    {
     "data": {
      "application/vnd.jupyter.widget-view+json": {
       "model_id": "e17ad6f2fdee4830808aa935d38aebc7",
       "version_major": 2,
       "version_minor": 0
      },
      "text/plain": [
       "VBox()"
      ]
     },
     "metadata": {},
     "output_type": "display_data"
    },
    {
     "data": {
      "application/vnd.jupyter.widget-view+json": {
       "model_id": "",
       "version_major": 2,
       "version_minor": 0
      },
      "text/plain": [
       "FloatProgress(value=0.0, bar_style='info', description='Progress:', layout=Layout(height='25px', width='50%'),…"
      ]
     },
     "metadata": {},
     "output_type": "display_data"
    },
    {
     "name": "stdout",
     "output_type": "stream",
     "text": [
      "res5: org.apache.spark.sql.DataFrame = []\n"
     ]
    }
   ],
   "source": [
    "spark.sql(\"use \" + dbName)"
   ]
  },
  {
   "cell_type": "code",
   "execution_count": 6,
   "metadata": {},
   "outputs": [
    {
     "data": {
      "application/vnd.jupyter.widget-view+json": {
       "model_id": "2a50be7e6ee243f8a0b114ca68627a1d",
       "version_major": 2,
       "version_minor": 0
      },
      "text/plain": [
       "VBox()"
      ]
     },
     "metadata": {},
     "output_type": "display_data"
    },
    {
     "data": {
      "application/vnd.jupyter.widget-view+json": {
       "model_id": "",
       "version_major": 2,
       "version_minor": 0
      },
      "text/plain": [
       "FloatProgress(value=0.0, bar_style='info', description='Progress:', layout=Layout(height='25px', width='50%'),…"
      ]
     },
     "metadata": {},
     "output_type": "display_data"
    },
    {
     "name": "stdout",
     "output_type": "stream",
     "text": [
      "res6: org.apache.spark.sql.DataFrame = []\n"
     ]
    }
   ],
   "source": [
    "spark.sql(\"\"\"create external table catalog_sales_ext \n",
    "(\n",
    "    cs_sold_date_sk           varchar(10)                           ,\n",
    "    cs_sold_time_sk           int                           ,\n",
    "    cs_ship_date_sk           int                           ,\n",
    "    cs_bill_customer_sk       int                           ,\n",
    "    cs_bill_cdemo_sk          int                           ,\n",
    "    cs_bill_hdemo_sk          int                           ,\n",
    "    cs_bill_addr_sk           int                           ,\n",
    "    cs_ship_customer_sk       int                           ,\n",
    "    cs_ship_cdemo_sk          int                           ,\n",
    "    cs_ship_hdemo_sk          int                           ,\n",
    "    cs_ship_addr_sk           int                           ,\n",
    "    cs_call_center_sk         int                           ,\n",
    "    cs_catalog_page_sk        int                           ,\n",
    "    cs_ship_mode_sk           int                           ,\n",
    "    cs_warehouse_sk           int                           ,\n",
    "    cs_item_sk                int                           ,\n",
    "    cs_promo_sk               int                           ,\n",
    "    cs_order_number           int                           ,\n",
    "    cs_quantity               int                           ,\n",
    "    cs_wholesale_cost         decimal(7,2)                  ,\n",
    "    cs_list_price             decimal(7,2)                  ,\n",
    "    cs_sales_price            decimal(7,2)                  ,\n",
    "    cs_ext_discount_amt       decimal(7,2)                  ,\n",
    "    cs_ext_sales_price        decimal(7,2)                  ,\n",
    "    cs_ext_wholesale_cost     decimal(7,2)                  ,\n",
    "    cs_ext_list_price         decimal(7,2)                  ,\n",
    "    cs_ext_tax                decimal(7,2)                  ,\n",
    "    cs_coupon_amt             decimal(7,2)                  ,\n",
    "    cs_ext_ship_cost          decimal(7,2)                  ,\n",
    "    cs_net_paid               decimal(7,2)                  ,\n",
    "    cs_net_paid_inc_tax       decimal(7,2)                  ,\n",
    "    cs_net_paid_inc_ship      decimal(7,2)                  ,\n",
    "    cs_net_paid_inc_ship_tax  decimal(7,2)                  ,\n",
    "    cs_net_profit             decimal(7,2)                   \n",
    ") \n",
    "ROW FORMAT DELIMITED FIELDS TERMINATED BY '\u0001' \n",
    "STORED AS TEXTFILE \n",
    "LOCATION 's3://tpcds-datasets/1GB/catalog_sales' \"\"\")"
   ]
  },
  {
   "cell_type": "code",
   "execution_count": 7,
   "metadata": {},
   "outputs": [
    {
     "data": {
      "application/vnd.jupyter.widget-view+json": {
       "model_id": "ac6f253b52054edcaab3f4d4ae020a3d",
       "version_major": 2,
       "version_minor": 0
      },
      "text/plain": [
       "VBox()"
      ]
     },
     "metadata": {},
     "output_type": "display_data"
    },
    {
     "data": {
      "application/vnd.jupyter.widget-view+json": {
       "model_id": "",
       "version_major": 2,
       "version_minor": 0
      },
      "text/plain": [
       "FloatProgress(value=0.0, bar_style='info', description='Progress:', layout=Layout(height='25px', width='50%'),…"
      ]
     },
     "metadata": {},
     "output_type": "display_data"
    },
    {
     "name": "stdout",
     "output_type": "stream",
     "text": [
      "[1441548]\n"
     ]
    }
   ],
   "source": [
    "spark.sql(\"select count(*) from catalog_sales_ext\").collect.foreach(println)"
   ]
  },
  {
   "cell_type": "code",
   "execution_count": 8,
   "metadata": {
    "scrolled": true
   },
   "outputs": [
    {
     "data": {
      "application/vnd.jupyter.widget-view+json": {
       "model_id": "ca5acc252c854a82a6cebc62d7a0748a",
       "version_major": 2,
       "version_minor": 0
      },
      "text/plain": [
       "VBox()"
      ]
     },
     "metadata": {},
     "output_type": "display_data"
    },
    {
     "data": {
      "application/vnd.jupyter.widget-view+json": {
       "model_id": "",
       "version_major": 2,
       "version_minor": 0
      },
      "text/plain": [
       "FloatProgress(value=0.0, bar_style='info', description='Progress:', layout=Layout(height='25px', width='50%'),…"
      ]
     },
     "metadata": {},
     "output_type": "display_data"
    },
    {
     "name": "stdout",
     "output_type": "stream",
     "text": [
      "extTableDF: org.apache.spark.sql.DataFrame = [cs_sold_date_sk: string, cs_sold_time_sk: int ... 32 more fields]\n"
     ]
    }
   ],
   "source": [
    "val extTableDF = spark.sql(\"select * from catalog_sales_ext\")\n",
    "\n",
    "extTableDF.write.format(\"org.apache.hudi\").option(\"hoodie.datasource.write.operation\", \"insert\").options(hudiOptions).mode(SaveMode.Overwrite).save(\"s3://tpcds-warehouses-test/\" + warehouseName + \"/catalog_sales/\")"
   ]
  },
  {
   "cell_type": "code",
   "execution_count": null,
   "metadata": {},
   "outputs": [],
   "source": [
    "//Execute the following statements in Hive beeline to fix the default partition.\n",
    "\n",
    "//beeline -u jdbc:hive2://localhost:10000/default -n hive -p hive\n",
    "\n",
    "//USE tpcds_sparkemr_530_1gb_1_1593979210testhudi\n",
    "\n",
    "//ALTER TABLE catalog_sales PARTITION (cs_sold_date_sk='default') RENAME TO PARTITION (cs_sold_date_sk='0');\n",
    "\n",
    "//ALTER TABLE catalog_sales PARTITION COLUMN (cs_sold_date_sk integer);\n",
    " \n",
    "//ALTER TABLE catalog_sales PARTITION (cs_sold_date_sk='0') RENAME TO PARTITION (cs_sold_date_sk='__HIVE_DEFAULT_PARTITION__'); "
   ]
  },
  {
   "cell_type": "code",
   "execution_count": 9,
   "metadata": {
    "scrolled": true
   },
   "outputs": [
    {
     "data": {
      "application/vnd.jupyter.widget-view+json": {
       "model_id": "9cb6e8c47dd84b6d9d89031756c3f57f",
       "version_major": 2,
       "version_minor": 0
      },
      "text/plain": [
       "VBox()"
      ]
     },
     "metadata": {},
     "output_type": "display_data"
    },
    {
     "data": {
      "application/vnd.jupyter.widget-view+json": {
       "model_id": "",
       "version_major": 2,
       "version_minor": 0
      },
      "text/plain": [
       "FloatProgress(value=0.0, bar_style='info', description='Progress:', layout=Layout(height='25px', width='50%'),…"
      ]
     },
     "metadata": {},
     "output_type": "display_data"
    },
    {
     "name": "stdout",
     "output_type": "stream",
     "text": [
      "[1439929]\n"
     ]
    }
   ],
   "source": [
    "spark.sql(\"select count(*) from catalog_sales\").collect.foreach(println)"
   ]
  },
  {
   "cell_type": "code",
   "execution_count": 10,
   "metadata": {},
   "outputs": [
    {
     "data": {
      "application/vnd.jupyter.widget-view+json": {
       "model_id": "f979eb93d1524f169944c2b4950c341e",
       "version_major": 2,
       "version_minor": 0
      },
      "text/plain": [
       "VBox()"
      ]
     },
     "metadata": {},
     "output_type": "display_data"
    },
    {
     "data": {
      "application/vnd.jupyter.widget-view+json": {
       "model_id": "",
       "version_major": 2,
       "version_minor": 0
      },
      "text/plain": [
       "FloatProgress(value=0.0, bar_style='info', description='Progress:', layout=Layout(height='25px', width='50%'),…"
      ]
     },
     "metadata": {},
     "output_type": "display_data"
    },
    {
     "name": "stdout",
     "output_type": "stream",
     "text": [
      "[7180]\n"
     ]
    }
   ],
   "source": [
    "spark.sql(\"select count(*) from catalog_sales where cs_sold_date_sk = 'default'\").collect.foreach(println)"
   ]
  },
  {
   "cell_type": "code",
   "execution_count": 11,
   "metadata": {},
   "outputs": [
    {
     "data": {
      "application/vnd.jupyter.widget-view+json": {
       "model_id": "c9e54cb85d274297a7245c807e03b4bb",
       "version_major": 2,
       "version_minor": 0
      },
      "text/plain": [
       "VBox()"
      ]
     },
     "metadata": {},
     "output_type": "display_data"
    },
    {
     "data": {
      "application/vnd.jupyter.widget-view+json": {
       "model_id": "",
       "version_major": 2,
       "version_minor": 0
      },
      "text/plain": [
       "FloatProgress(value=0.0, bar_style='info', description='Progress:', layout=Layout(height='25px', width='50%'),…"
      ]
     },
     "metadata": {},
     "output_type": "display_data"
    },
    {
     "name": "stdout",
     "output_type": "stream",
     "text": [
      "[0]\n"
     ]
    }
   ],
   "source": [
    "spark.sql(\"select count(*) from catalog_sales where cs_sold_date_sk is null\").collect.foreach(println)"
   ]
  },
  {
   "cell_type": "code",
   "execution_count": 12,
   "metadata": {},
   "outputs": [
    {
     "data": {
      "application/vnd.jupyter.widget-view+json": {
       "model_id": "6f66b20a4c7c47e7b4aad20227b81553",
       "version_major": 2,
       "version_minor": 0
      },
      "text/plain": [
       "VBox()"
      ]
     },
     "metadata": {},
     "output_type": "display_data"
    },
    {
     "data": {
      "application/vnd.jupyter.widget-view+json": {
       "model_id": "",
       "version_major": 2,
       "version_minor": 0
      },
      "text/plain": [
       "FloatProgress(value=0.0, bar_style='info', description='Progress:', layout=Layout(height='25px', width='50%'),…"
      ]
     },
     "metadata": {},
     "output_type": "display_data"
    },
    {
     "name": "stdout",
     "output_type": "stream",
     "text": [
      "root\n",
      " |-- _hoodie_commit_time: string (nullable = true)\n",
      " |-- _hoodie_commit_seqno: string (nullable = true)\n",
      " |-- _hoodie_record_key: string (nullable = true)\n",
      " |-- _hoodie_partition_path: string (nullable = true)\n",
      " |-- _hoodie_file_name: string (nullable = true)\n",
      " |-- cs_sold_time_sk: integer (nullable = true)\n",
      " |-- cs_ship_date_sk: integer (nullable = true)\n",
      " |-- cs_bill_customer_sk: integer (nullable = true)\n",
      " |-- cs_bill_cdemo_sk: integer (nullable = true)\n",
      " |-- cs_bill_hdemo_sk: integer (nullable = true)\n",
      " |-- cs_bill_addr_sk: integer (nullable = true)\n",
      " |-- cs_ship_customer_sk: integer (nullable = true)\n",
      " |-- cs_ship_cdemo_sk: integer (nullable = true)\n",
      " |-- cs_ship_hdemo_sk: integer (nullable = true)\n",
      " |-- cs_ship_addr_sk: integer (nullable = true)\n",
      " |-- cs_call_center_sk: integer (nullable = true)\n",
      " |-- cs_catalog_page_sk: integer (nullable = true)\n",
      " |-- cs_ship_mode_sk: integer (nullable = true)\n",
      " |-- cs_warehouse_sk: integer (nullable = true)\n",
      " |-- cs_item_sk: integer (nullable = true)\n",
      " |-- cs_promo_sk: integer (nullable = true)\n",
      " |-- cs_order_number: integer (nullable = true)\n",
      " |-- cs_quantity: integer (nullable = true)\n",
      " |-- cs_wholesale_cost: decimal(7,2) (nullable = true)\n",
      " |-- cs_list_price: decimal(7,2) (nullable = true)\n",
      " |-- cs_sales_price: decimal(7,2) (nullable = true)\n",
      " |-- cs_ext_discount_amt: decimal(7,2) (nullable = true)\n",
      " |-- cs_ext_sales_price: decimal(7,2) (nullable = true)\n",
      " |-- cs_ext_wholesale_cost: decimal(7,2) (nullable = true)\n",
      " |-- cs_ext_list_price: decimal(7,2) (nullable = true)\n",
      " |-- cs_ext_tax: decimal(7,2) (nullable = true)\n",
      " |-- cs_coupon_amt: decimal(7,2) (nullable = true)\n",
      " |-- cs_ext_ship_cost: decimal(7,2) (nullable = true)\n",
      " |-- cs_net_paid: decimal(7,2) (nullable = true)\n",
      " |-- cs_net_paid_inc_tax: decimal(7,2) (nullable = true)\n",
      " |-- cs_net_paid_inc_ship: decimal(7,2) (nullable = true)\n",
      " |-- cs_net_paid_inc_ship_tax: decimal(7,2) (nullable = true)\n",
      " |-- cs_net_profit: decimal(7,2) (nullable = true)\n",
      " |-- cs_sold_date_sk: string (nullable = true)\n",
      "\n"
     ]
    }
   ],
   "source": [
    "spark.sql(\"select * from catalog_sales limit 1\").printSchema()"
   ]
  },
  {
   "cell_type": "code",
   "execution_count": null,
   "metadata": {},
   "outputs": [],
   "source": []
  }
 ],
 "metadata": {
  "kernelspec": {
   "display_name": "Spark",
   "language": "",
   "name": "sparkkernel"
  },
  "language_info": {
   "codemirror_mode": "text/x-scala",
   "mimetype": "text/x-scala",
   "name": "scala",
   "pygments_lexer": "scala"
  }
 },
 "nbformat": 4,
 "nbformat_minor": 4
}
